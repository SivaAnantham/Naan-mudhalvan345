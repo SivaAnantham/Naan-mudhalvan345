{
 "cells": [
  {
   "cell_type": "code",
   "execution_count": null,
   "id": "a08c0c4b",
   "metadata": {},
   "outputs": [],
   "source": []
  },
  {
   "cell_type": "code",
   "execution_count": null,
   "id": "79476f8e",
   "metadata": {},
   "outputs": [],
   "source": [
    "import cv2\n",
    "\n",
    "# === Load the video ===\n",
    "video_path = 'drone.mp4'  # Replace with your video file\n",
    "cap = cv2.VideoCapture(video_path)\n",
    "\n",
    "# === Initialize ORB (FAST + BRIEF) ===\n",
    "orb = cv2.ORB_create()\n",
    "\n",
    "# === Initialize Brute-Force matcher ===\n",
    "bf = cv2.BFMatcher(cv2.NORM_HAMMING, crossCheck=True)\n",
    "\n",
    "# === Read the first frame ===\n",
    "ret, prev_frame = cap.read()\n",
    "if not ret:\n",
    "    print(\"Failed to read video.\")\n",
    "    exit()\n",
    "\n",
    "# Convert to grayscale\n",
    "prev_gray = cv2.cvtColor(prev_frame, cv2.COLOR_BGR2GRAY)\n",
    "\n",
    "# Detect keypoints and descriptors\n",
    "prev_kp, prev_des = orb.detectAndCompute(prev_gray, None)\n",
    "\n",
    "while True:\n",
    "    # Read the next frame\n",
    "    ret, frame = cap.read()\n",
    "    if not ret:\n",
    "        break\n",
    "\n",
    "    gray = cv2.cvtColor(frame, cv2.COLOR_BGR2GRAY)\n",
    "\n",
    "    # Detect keypoints and compute descriptors\n",
    "    kp, des = orb.detectAndCompute(gray, None)\n",
    "\n",
    "    if des is not None and prev_des is not None:\n",
    "        # Match descriptors\n",
    "        matches = bf.match(prev_des, des)\n",
    "        matches = sorted(matches, key=lambda x: x.distance)\n",
    "\n",
    "        # Draw top matches\n",
    "        matched_img = cv2.drawMatches(prev_frame, prev_kp, frame, kp, matches[:50], None, flags=2)\n",
    "\n",
    "        # Show the result\n",
    "        cv2.imshow(\"Motion Tracking with FAST + ORB\", matched_img)\n",
    "\n",
    "    prev_frame = frame\n",
    "    prev_gray = gray\n",
    "    prev_kp, prev_des = kp, des\n",
    "\n",
    "    if cv2.waitKey(30) & 0xFF == 27:  # Press ESC to exit\n",
    "        break\n",
    "\n",
    "cap.release()\n",
    "cv2.destroyAllWindows()\n"
   ]
  }
 ],
 "metadata": {
  "kernelspec": {
   "display_name": "base",
   "language": "python",
   "name": "python3"
  },
  "language_info": {
   "name": "python",
   "version": "3.11.7"
  }
 },
 "nbformat": 4,
 "nbformat_minor": 5
}
