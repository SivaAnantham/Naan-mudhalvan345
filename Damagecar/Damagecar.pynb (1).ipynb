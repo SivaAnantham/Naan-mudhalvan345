{
 "cells": [
  {
   "cell_type": "code",
   "execution_count": null,
   "id": "e59cc480",
   "metadata": {},
   "outputs": [],
   "source": [
    "import cv2\n",
    "import numpy as np\n",
    "\n",
    "# Step 1: Load the image\n",
    "image_path = \"Car.jpg\"  # Replace with your image path\n",
    "image = cv2.imread(image_path)\n",
    "\n",
    "# Step 2: Resize the image (optional based on your requirements)\n",
    "target_size = (640, 480)  # Resize to a fixed size\n",
    "image = cv2.resize(image, target_size)\n",
    "\n",
    "# Step 3: Convert to Grayscale\n",
    "gray_image = cv2.cvtColor(image, cv2.COLOR_BGR2GRAY)\n",
    "\n",
    "# Step 4: Apply Gaussian Blur to reduce noise\n",
    "blurred_image = cv2.GaussianBlur(gray_image, (5, 5), 0)\n",
    "\n",
    "# Step 5: Edge Detection using Canny\n",
    "edges = cv2.Canny(blurred_image, 100, 200)\n",
    "\n",
    "# Step 6: Thresholding (optional)\n",
    "_, threshold_image = cv2.threshold(edges, 100, 255, cv2.THRESH_BINARY)\n",
    "\n",
    "# Step 7: Morphological Transformations\n",
    "kernel = np.ones((5, 5), np.uint8)\n",
    "dilated_image = cv2.dilate(threshold_image, kernel, iterations=1)\n",
    "\n",
    "# Optional: Other Morphological Operations like Erosion\n",
    "# eroded_image = cv2.erode(threshold_image, kernel, iterations=1)\n",
    "\n",
    "# Step 8: Optional - Histogram Equalization to improve contrast\n",
    "equalized_image = cv2.equalizeHist(gray_image)\n",
    "\n",
    "# Displaying the images to visually inspect\n",
    "cv2.imshow('Original Image', image)\n",
    "cv2.imshow('Grayscale Image', gray_image)\n",
    "cv2.imshow('Blurred Image', blurred_image)\n",
    "cv2.imshow('Edges', edges)\n",
    "cv2.imshow('Threshold Image', threshold_image)\n",
    "cv2.imshow('Dilated Image', dilated_image)\n",
    "cv2.imshow('Equalized Image', equalized_image)\n",
    "\n",
    "# Wait for a key press to close all windows\n",
    "cv2.waitKey(0)\n",
    "cv2.destroyAllWindows()\n",
    "\n"
   ]
  }
 ],
 "metadata": {
  "kernelspec": {
   "display_name": "base",
   "language": "python",
   "name": "python3"
  },
  "language_info": {
   "codemirror_mode": {
    "name": "ipython",
    "version": 3
   },
   "file_extension": ".py",
   "mimetype": "text/x-python",
   "name": "python",
   "nbconvert_exporter": "python",
   "pygments_lexer": "ipython3",
   "version": "3.12.7"
  }
 },
 "nbformat": 4,
 "nbformat_minor": 5
}
